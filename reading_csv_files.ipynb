{
 "cells": [
  {
   "cell_type": "code",
   "execution_count": 1,
   "id": "34baf9f1",
   "metadata": {},
   "outputs": [],
   "source": [
    "from src.main import read_and_clean_channel_group, read_and_clean_beverage_sales, join_beverage_with_channel"
   ]
  },
  {
   "cell_type": "code",
   "execution_count": 2,
   "id": "24bdb201",
   "metadata": {},
   "outputs": [
    {
     "name": "stderr",
     "output_type": "stream",
     "text": [
      "WARNING: Using incubator modules: jdk.incubator.vector\n",
      "Using Spark's default log4j profile: org/apache/spark/log4j2-defaults.properties\n",
      "Setting default log level to \"WARN\".\n",
      "To adjust logging level use sc.setLogLevel(newLevel). For SparkR, use setLogLevel(newLevel).\n",
      "25/08/18 21:44:13 WARN NativeCodeLoader: Unable to load native-hadoop library for your platform... using builtin-java classes where applicable\n",
      "25/08/18 21:44:13 WARN Utils: Service 'SparkUI' could not bind on port 4040. Attempting port 4041.\n"
     ]
    }
   ],
   "source": [
    "import os\n",
    "\n",
    "\n",
    "# Read and clean data using imported methods\n",
    "df_channel_group = read_and_clean_channel_group()\n",
    "# Read and clean beverage sales data using imported method\n",
    "df_beverage_sales = read_and_clean_beverage_sales()"
   ]
  },
  {
   "cell_type": "code",
   "execution_count": null,
   "id": "d6c25743",
   "metadata": {},
   "outputs": [],
   "source": []
  },
  {
   "cell_type": "code",
   "execution_count": 3,
   "id": "7cbd234e",
   "metadata": {},
   "outputs": [
    {
     "name": "stdout",
     "output_type": "stream",
     "text": [
      "root\n",
      " |-- DATE: string (nullable = true)\n",
      " |-- CE_BRAND_FLVR: string (nullable = true)\n",
      " |-- BRAND_NM: string (nullable = true)\n",
      " |-- Btlr_Org_LVL_C_Desc: string (nullable = true)\n",
      " |-- CHNL_GROUP: string (nullable = true)\n",
      " |-- TRADE_CHNL_DESC: string (nullable = true)\n",
      " |-- PKG_CAT: string (nullable = true)\n",
      " |-- Pkg_Cat_Desc: string (nullable = true)\n",
      " |-- TSR_PCKG_NM: string (nullable = true)\n",
      " |-- $ Volume: string (nullable = true)\n",
      " |-- YEAR: string (nullable = true)\n",
      " |-- MONTH: string (nullable = true)\n",
      " |-- PERIOD: string (nullable = true)\n",
      "\n"
     ]
    }
   ],
   "source": [
    "df_beverage_sales.printSchema()\n"
   ]
  },
  {
   "cell_type": "code",
   "execution_count": 4,
   "id": "8275c4c1",
   "metadata": {},
   "outputs": [
    {
     "name": "stdout",
     "output_type": "stream",
     "text": [
      "+--------------------+----------------+---------------+\n",
      "|     TRADE_CHNL_DESC|TRADE_GROUP_DESC|TRADE_TYPE_DESC|\n",
      "+--------------------+----------------+---------------+\n",
      "|         SPORT VENUE|   ENTERTAINMENT|      ALCOHOLIC|\n",
      "|           SUPERETTE|        SERVICES|            MIX|\n",
      "|      PLANT / OFFICE|        SERVICES|            MIX|\n",
      "|   MASS MERCHANDISER|         GROCERY|            MIX|\n",
      "|LIQUOR/BEER/WINE/...|         GROCERY|      ALCOHOLIC|\n",
      "|   CONVENIENCE STORE|        SERVICES|            MIX|\n",
      "|QUICK SERVICE RES...|   ENTERTAINMENT|      ALCOHOLIC|\n",
      "|         SUPERMARKET|         GROCERY|            MIX|\n",
      "|           ALL OTHER|           OTHER|            MIX|\n",
      "|OTHER EATING + DR...|        SERVICES|            MIX|\n",
      "|          RESTAURANT|   ENTERTAINMENT|      ALCOHOLIC|\n",
      "|  HYPER-MERCHANDISER|         GROCERY|            MIX|\n",
      "|          DRUG STORE|         GROCERY|            MIX|\n",
      "|      TRANSPORTATION|        SERVICES|  NON ALCOHOLIC|\n",
      "|  MILITARY-COMMISARY|  GOV & MILITARY|            MIX|\n",
      "|      MILITARY-OTHER|  GOV & MILITARY|            MIX|\n",
      "|  COLLEGE/UNIVERSITY|        ACADEMIC|  NON ALCOHOLIC|\n",
      "|PRIMARY/SECONDARY...|        ACADEMIC|  NON ALCOHOLIC|\n",
      "|   HEALTH / HOSPITAL|        ACADEMIC|  NON ALCOHOLIC|\n",
      "|GENERAL MERCHANDISER|         GROCERY|            MIX|\n",
      "+--------------------+----------------+---------------+\n",
      "only showing top 20 rows\n"
     ]
    }
   ],
   "source": [
    "df_channel_group.show()\n"
   ]
  },
  {
   "cell_type": "code",
   "execution_count": 5,
   "id": "e9cdc93f",
   "metadata": {},
   "outputs": [
    {
     "name": "stdout",
     "output_type": "stream",
     "text": [
      "+--------+-------------+----------+-------------------+------------------+--------------------+-------+------------+---------------+--------+----+-----+------+--------------------+----------------+---------------+\n",
      "|    DATE|CE_BRAND_FLVR|  BRAND_NM|Btlr_Org_LVL_C_Desc|        CHNL_GROUP|     TRADE_CHNL_DESC|PKG_CAT|Pkg_Cat_Desc|    TSR_PCKG_NM|$ Volume|YEAR|MONTH|PERIOD|     TRADE_CHNL_DESC|TRADE_GROUP_DESC|TRADE_TYPE_DESC|\n",
      "+--------+-------------+----------+-------------------+------------------+--------------------+-------+------------+---------------+--------+----+-----+------+--------------------+----------------+---------------+\n",
      "|1/1/2006|         3440|     LEMON|             CANADA|           LEISURE|         SPORT VENUE|   N20O|   20Z/600ML|  .591L NRP 24L|   22.48|2006|    1|     1|         SPORT VENUE|   ENTERTAINMENT|      ALCOHOLIC|\n",
      "|1/1/2006|         3440|     LEMON|          NORTHEAST|            SUPERS|           SUPERETTE|   N20O|   20Z/600ML|    20Z NRP 24L|     100|2006|    1|     1|           SUPERETTE|        SERVICES|            MIX|\n",
      "|1/1/2006|         3554|STRAWBERRY|          SOUTHEAST|         WORKPLACE|      PLANT / OFFICE|   N20O|   20Z/600ML|    20Z NRP 24L|   66.14|2006|    1|     1|      PLANT / OFFICE|        SERVICES|            MIX|\n",
      "|1/1/2006|         3441| RASPBERRY|            MIDWEST| MASS MERCHANDISER|   MASS MERCHANDISER|   N20O|   20Z/600ML|    20Z NRP 24L|   222.5|2006|    1|     1|   MASS MERCHANDISER|         GROCERY|            MIX|\n",
      "|1/1/2006|         3440|     LEMON|               WEST| MASS MERCHANDISER|   MASS MERCHANDISER|   N20O|   20Z/600ML|    20Z NRP 24L|   302.5|2006|    1|     1|   MASS MERCHANDISER|         GROCERY|            MIX|\n",
      "|1/1/2006|         3440|     LEMON|            MIDWEST|OTHER SMALL STORES|LIQUOR/BEER/WINE/...|   N20O|   20Z/600ML|    20Z NRP 24L|      10|2006|    1|     1|LIQUOR/BEER/WINE/...|         GROCERY|      ALCOHOLIC|\n",
      "|1/1/2006|         3441| RASPBERRY|          SOUTHEAST|CONVENIENCE RETAIL|   CONVENIENCE STORE|   N56P|    500ML 6P|     .5L NRP 6P|   -4.22|2006|    1|     1|   CONVENIENCE STORE|        SERVICES|            MIX|\n",
      "|1/1/2006|         3554|STRAWBERRY|             CANADA|      FOOD SERVICE|QUICK SERVICE RES...|   N20O|   20Z/600ML|  .591L NRP 24L|   59.95|2006|    1|     1|QUICK SERVICE RES...|   ENTERTAINMENT|      ALCOHOLIC|\n",
      "|1/1/2006|         3554|STRAWBERRY|          SOUTHWEST|            SUPERS|         SUPERMARKET|   N20O|   20Z/600ML|  20z NRP 24L S|     300|2006|    1|     1|         SUPERMARKET|         GROCERY|            MIX|\n",
      "|1/1/2006|         3554|STRAWBERRY|          SOUTHEAST|      FOOD SERVICE|QUICK SERVICE RES...|   N20O|   20Z/600ML|    20Z NRP 24L|      85|2006|    1|     1|QUICK SERVICE RES...|   ENTERTAINMENT|      ALCOHOLIC|\n",
      "|1/1/2006|         3441| RASPBERRY|        GREAT LAKES|      FOOD SERVICE|QUICK SERVICE RES...|   N20O|   20Z/600ML|  20z NRP 24L S|     2.5|2006|    1|     1|QUICK SERVICE RES...|   ENTERTAINMENT|      ALCOHOLIC|\n",
      "|1/1/2006|         3440|     LEMON|        GREAT LAKES|OTHER SMALL STORES|           ALL OTHER|   N20O|   20Z/600ML|  20z NRP 24L S|     2.5|2006|    1|     1|           ALL OTHER|           OTHER|            MIX|\n",
      "|1/1/2006|         3554|STRAWBERRY|            MIDWEST|      FOOD SERVICE|OTHER EATING + DR...|   N20O|   20Z/600ML|    20Z NRP 24L|      45|2006|    1|     1|OTHER EATING + DR...|        SERVICES|            MIX|\n",
      "|1/1/2006|         3441| RASPBERRY|               WEST|      FOOD SERVICE|          RESTAURANT|   N20O|   20Z/600ML|    20Z NRP 24L|     7.5|2006|    1|     1|          RESTAURANT|   ENTERTAINMENT|      ALCOHOLIC|\n",
      "|1/1/2006|         3441| RASPBERRY|               WEST|            SUPERS|  HYPER-MERCHANDISER|   N20O|   20Z/600ML|    20Z NRP 24L|  396.87|2006|    1|     1|  HYPER-MERCHANDISER|         GROCERY|            MIX|\n",
      "|1/1/2006|         3554|STRAWBERRY|        GREAT LAKES|       DRUG STORES|          DRUG STORE|   N56P|    500ML 6P|     .5L NRP 6P|   35.92|2006|    1|     1|          DRUG STORE|         GROCERY|            MIX|\n",
      "|1/1/2006|         3554|STRAWBERRY|             CANADA|    TRANSPORTATION|      TRANSPORTATION|   N20O|   20Z/600ML|.591L NRP 24L *|   12.49|2006|    1|     1|      TRANSPORTATION|        SERVICES|  NON ALCOHOLIC|\n",
      "|1/1/2006|         3441| RASPBERRY|            MIDWEST|            SUPERS|  MILITARY-COMMISARY|   N56P|    500ML 6P|     .5L NRP 6P|   10.56|2006|    1|     1|  MILITARY-COMMISARY|  GOV & MILITARY|            MIX|\n",
      "|1/1/2006|         3554|STRAWBERRY|               WEST|       DRUG STORES|          DRUG STORE|   N20O|   20Z/600ML|    20Z NRP 24L|   152.5|2006|    1|     1|          DRUG STORE|         GROCERY|            MIX|\n",
      "|1/1/2006|         3440|     LEMON|          SOUTHEAST|     MILITARY/GOVT|      MILITARY-OTHER|   N20O|   20Z/600ML|  20z NRP 24L S|    27.5|2006|    1|     1|      MILITARY-OTHER|  GOV & MILITARY|            MIX|\n",
      "+--------+-------------+----------+-------------------+------------------+--------------------+-------+------------+---------------+--------+----+-----+------+--------------------+----------------+---------------+\n",
      "only showing top 20 rows\n"
     ]
    },
    {
     "name": "stderr",
     "output_type": "stream",
     "text": [
      "25/08/18 21:44:24 WARN CSVHeaderChecker: CSV header does not conform to the schema.\n",
      " Header: ��D\u0000A\u0000T\u0000E\u0000, \u0000C\u0000E\u0000_\u0000B\u0000R\u0000A\u0000N\u0000D\u0000_\u0000F\u0000L\u0000V\u0000R\u0000, \u0000B\u0000R\u0000A\u0000N\u0000D\u0000_\u0000N\u0000M\u0000, \u0000B\u0000t\u0000l\u0000r\u0000_\u0000O\u0000r\u0000g\u0000_\u0000L\u0000V\u0000L\u0000_\u0000C\u0000_\u0000D\u0000e\u0000s\u0000c\u0000, \u0000C\u0000H\u0000N\u0000L\u0000_\u0000G\u0000R\u0000O\u0000U\u0000P\u0000, \u0000T\u0000R\u0000A\u0000D\u0000E\u0000_\u0000C\u0000H\u0000N\u0000L\u0000_\u0000D\u0000E\u0000S\u0000C\u0000, \u0000P\u0000K\u0000G\u0000_\u0000C\u0000A\u0000T\u0000, \u0000P\u0000k\u0000g\u0000_\u0000C\u0000a\u0000t\u0000_\u0000D\u0000e\u0000s\u0000c\u0000, \u0000T\u0000S\u0000R\u0000_\u0000P\u0000C\u0000K\u0000G\u0000_\u0000N\u0000M\u0000, \u0000$\u0000 \u0000V\u0000o\u0000l\u0000u\u0000m\u0000e\u0000, \u0000Y\u0000E\u0000A\u0000R\u0000, \u0000M\u0000O\u0000N\u0000T\u0000H\u0000, \u0000P\u0000E\u0000R\u0000I\u0000O\u0000D\u0000\n",
      " Schema: DATE, CE_BRAND_FLVR, BRAND_NM, Btlr_Org_LVL_C_Desc, CHNL_GROUP, TRADE_CHNL_DESC, PKG_CAT, Pkg_Cat_Desc, TSR_PCKG_NM, $ Volume, YEAR, MONTH, PERIOD\n",
      "Expected: DATE but found: ��D\u0000A\u0000T\u0000E\u0000\n",
      "CSV file: file:///Users/maira.araujo/Personal/mairaaraujo_assessment/files/abi_bus_case1_beverage_sales_20210726.csv\n"
     ]
    }
   ],
   "source": [
    "df_join = join_beverage_with_channel(df_beverage_sales, df_channel_group)\n",
    "df_join.show()"
   ]
  }
 ],
 "metadata": {
  "kernelspec": {
   "display_name": "Python 3",
   "language": "python",
   "name": "python3"
  },
  "language_info": {
   "codemirror_mode": {
    "name": "ipython",
    "version": 3
   },
   "file_extension": ".py",
   "mimetype": "text/x-python",
   "name": "python",
   "nbconvert_exporter": "python",
   "pygments_lexer": "ipython3",
   "version": "3.13.0"
  }
 },
 "nbformat": 4,
 "nbformat_minor": 5
}
