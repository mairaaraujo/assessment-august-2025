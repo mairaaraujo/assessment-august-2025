{
 "cells": [
  {
   "cell_type": "code",
   "execution_count": null,
   "id": "34baf9f1",
   "metadata": {},
   "outputs": [],
   "source": [
    "import os\n",
    "from src.requeriment_1 import read_and_clean_channel_group, read_and_clean_beverage_sales, join_beverage_with_channel"
   ]
  },
  {
   "cell_type": "code",
   "execution_count": null,
   "id": "24bdb201",
   "metadata": {},
   "outputs": [],
   "source": [
    "df_channel_group = read_and_clean_channel_group()\n",
    "df_beverage_sales = read_and_clean_beverage_sales()"
   ]
  },
  {
   "cell_type": "code",
   "execution_count": null,
   "id": "7cbd234e",
   "metadata": {},
   "outputs": [],
   "source": [
    "df_beverage_sales.printSchema()"
   ]
  },
  {
   "cell_type": "code",
   "execution_count": null,
   "id": "8275c4c1",
   "metadata": {},
   "outputs": [],
   "source": [
    "df_channel_group.show()\n"
   ]
  },
  {
   "cell_type": "code",
   "execution_count": null,
   "id": "e9cdc93f",
   "metadata": {},
   "outputs": [],
   "source": [
    "df_join = join_beverage_with_channel(df_beverage_sales, df_channel_group)\n",
    "df_join.show()"
   ]
  }
 ],
 "metadata": {
  "kernelspec": {
   "display_name": "Python 3",
   "language": "python",
   "name": "python3"
  },
  "language_info": {
   "codemirror_mode": {
    "name": "ipython",
    "version": 3
   },
   "file_extension": ".py",
   "mimetype": "text/x-python",
   "name": "python",
   "nbconvert_exporter": "python",
   "pygments_lexer": "ipython3",
   "version": "3.13.0"
  }
 },
 "nbformat": 4,
 "nbformat_minor": 5
}
